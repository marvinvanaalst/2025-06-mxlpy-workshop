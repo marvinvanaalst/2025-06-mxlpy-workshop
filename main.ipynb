{
 "cells": [
  {
   "cell_type": "markdown",
   "id": "7e90f8b9",
   "metadata": {
    "vscode": {
     "languageId": "plaintext"
    }
   },
   "source": [
    "# MxlPy & MxlBricks workshop\n",
    "<p align=\"center\">\n",
    "<img src=\"https://raw.githubusercontent.com/Computational-Biology-Aachen/MxlPy/refs/heads/main/docs/assets/logo-diagram.png\" style=\"width: 350px; max-width: 45%\" alt='mxlpy-logo'>\n",
    "<img src=\"https://raw.githubusercontent.com/Computational-Biology-Aachen/mxl-bricks/refs/heads/main/docs/assets/logo.png\" style=\"width: 350px; max-width: 45%\" alt='mxlbricks-logo'>\n",
    "</p>\n",
    "\n"
   ]
  },
  {
   "cell_type": "code",
   "execution_count": null,
   "id": "15903cb8",
   "metadata": {},
   "outputs": [],
   "source": [
    "from dataclasses import dataclass\n",
    "from pathlib import Path\n",
    "\n",
    "import matplotlib.pyplot as plt\n",
    "import numpy as np\n",
    "import pandas as pd\n",
    "from IPython.display import Markdown\n",
    "from matplotlib.figure import Figure\n",
    "from mxlpy import (\n",
    "    Derived,\n",
    "    Model,\n",
    "    Simulator,\n",
    "    compare,\n",
    "    fns,\n",
    "    plot,\n",
    "    report,\n",
    "    surrogates,\n",
    "    unwrap,\n",
    ")\n",
    "\n",
    "from models import get_sir, get_sird\n",
    "\n",
    "(TMP_DIR := Path(\"temp\")).mkdir(exist_ok=True, parents=True)\n",
    "\n",
    "\n",
    "def plot_difference(r_old: pd.DataFrame, r_new: pd.DataFrame) -> Figure:\n",
    "    rel_diff = (r_new - r_old) / r_old\n",
    "    largest_diff = rel_diff.abs().mean().fillna(0).sort_values().tail(n=3)\n",
    "\n",
    "    fig, ax = plot.one_axes()\n",
    "    plot.lines(r_new, ax=ax)\n",
    "    lines = dict(zip(r_new.columns, ax.lines, strict=True))\n",
    "    for f, i in enumerate(reversed(largest_diff.index), start=2):\n",
    "        line = lines[i]  # type: ignore\n",
    "        line.set_linewidth(line.get_linewidth() * f)\n",
    "\n",
    "    plot.reset_prop_cycle(ax)\n",
    "    plot.lines(r_old, ax=ax, alpha=0.25, legend=False)\n",
    "    ax.set(xlabel=\"Time / a.u.\", ylabel=\"Relative Population\")\n",
    "    return fig\n",
    "\n",
    "\n",
    "def remove_labels(axs: plot.Axs) -> None:\n",
    "    for ax in axs:\n",
    "        ax.set(xlabel=\"\", ylabel=\"\")\n",
    "\n",
    "\n",
    "def grid_labels(\n",
    "    axs: plot.Axs,\n",
    "    xlabel: str | None = None,\n",
    "    ylabel: str | None = None,\n",
    ") -> None:\n",
    "    \"\"\"Apply labels to left and bottom axes.\"\"\"\n",
    "    remove_labels(axs)\n",
    "\n",
    "    col = 0\n",
    "    invisible = False\n",
    "\n",
    "    for ax in axs[:, 0]:\n",
    "        ax.set_ylabel(ylabel)\n",
    "    for i, ax in enumerate(axs[-1, :]):\n",
    "        if not ax.get_visible():\n",
    "            col = i\n",
    "            invisible = True\n",
    "            break\n",
    "        ax.set_xlabel(xlabel)\n",
    "    if invisible:\n",
    "        for ax in axs[-2, col:]:\n",
    "            ax.set_xlabel(xlabel)\n"
   ]
  },
  {
   "cell_type": "markdown",
   "id": "055101df",
   "metadata": {},
   "source": [
    "## All things derived\n",
    "\n",
    "Loads of values can be derived from each other.  \n"
   ]
  },
  {
   "cell_type": "markdown",
   "id": "4b4af9b1",
   "metadata": {},
   "source": [
    "### Parameters"
   ]
  },
  {
   "cell_type": "code",
   "execution_count": null,
   "id": "6f0bc2fb",
   "metadata": {},
   "outputs": [],
   "source": [
    "(\n",
    "    Model()\n",
    "    .add_parameter(\"p1\", 1.0)\n",
    "    .add_derived(\"d1\", fns.twice, args=[\"p1\"])  # derive from parameter p1\n",
    "    .get_dependent()\n",
    ")"
   ]
  },
  {
   "cell_type": "markdown",
   "id": "69491fcc",
   "metadata": {},
   "source": [
    "### Variables"
   ]
  },
  {
   "cell_type": "code",
   "execution_count": null,
   "id": "2f51d719",
   "metadata": {},
   "outputs": [],
   "source": [
    "(\n",
    "    Model()\n",
    "    .add_variable(\"v1\", 1.0)\n",
    "    .add_derived(\"d1\", fns.twice, args=[\"v1\"])  # derive from variable v1\n",
    "    .get_dependent()\n",
    ")"
   ]
  },
  {
   "cell_type": "markdown",
   "id": "3df6f3a6",
   "metadata": {},
   "source": [
    "### Derived variables"
   ]
  },
  {
   "cell_type": "code",
   "execution_count": null,
   "id": "da2b6c61",
   "metadata": {},
   "outputs": [],
   "source": [
    "(\n",
    "    Model()\n",
    "    .add_parameter(\"p1\", 1.0)\n",
    "    .add_derived(\"d1\", fns.twice, args=[\"p1\"])\n",
    "    .add_derived(\"d2\", fns.twice, args=[\"d1\"])  # derive from derived d1\n",
    "    .get_dependent()\n",
    ")"
   ]
  },
  {
   "cell_type": "markdown",
   "id": "1ce369a2",
   "metadata": {},
   "source": [
    "### Rates\n",
    "\n",
    "> Note: does **not** include the stoichiometry, just the rate"
   ]
  },
  {
   "cell_type": "code",
   "execution_count": null,
   "id": "a0b3c064",
   "metadata": {},
   "outputs": [],
   "source": [
    "(\n",
    "    Model()\n",
    "    .add_variable(\"v1\", 1.0)\n",
    "    .add_reaction(\"r1\", fns.twice, args=[\"v1\"], stoichiometry={\"v1\": -1})\n",
    "    .add_derived(\"d1\", fns.twice, args=[\"r1\"])  # derived from rate of r1\n",
    "    .add_reaction(\"r2\", fns.twice, args=[\"d1\"], stoichiometry={\"v1\": -1})  # use d1!\n",
    "    .get_dependent()\n",
    ")"
   ]
  },
  {
   "cell_type": "markdown",
   "id": "3d42c50d",
   "metadata": {},
   "source": [
    "### Stoichiometries\n",
    "\n",
    "Derive stoichiometry from other model components"
   ]
  },
  {
   "cell_type": "code",
   "execution_count": null,
   "id": "2c644090",
   "metadata": {},
   "outputs": [],
   "source": [
    "(\n",
    "    Model()\n",
    "    .add_parameter(\"p1\", 1.0)\n",
    "    .add_variable(\"v1\", 1.0)\n",
    "    .add_reaction(\n",
    "        \"r1\",\n",
    "        fns.twice,\n",
    "        args=[\"v1\"],\n",
    "        stoichiometry={\"v1\": Derived(fn=fns.twice, args=[\"p1\"])},\n",
    "    )\n",
    "    .get_stoichiometries()\n",
    ")"
   ]
  },
  {
   "cell_type": "markdown",
   "id": "c945b607",
   "metadata": {},
   "source": [
    "### Initial conditions\n",
    "\n",
    "> Note: this just derives the value **once**.  \n",
    "> This is **not** the same as a derived variable"
   ]
  },
  {
   "cell_type": "code",
   "execution_count": null,
   "id": "cc758d37",
   "metadata": {},
   "outputs": [],
   "source": [
    "(\n",
    "    Model()\n",
    "    .add_variables(\n",
    "        {\n",
    "            \"v1\": 1.0,\n",
    "            \"v2\": Derived(fn=fns.twice, args=[\"v1\"]),  # derive initial condition\n",
    "        }\n",
    "    )\n",
    "    .get_initial_conditions()\n",
    ")"
   ]
  },
  {
   "cell_type": "markdown",
   "id": "2962a823",
   "metadata": {},
   "source": [
    "## Surrogates\n",
    "\n",
    "What **is** a surrogate?  \n",
    "\n",
    "I will define it here as a replacement / approximation for another system / model.  \n",
    "These *might* be learned from data, but don't necessarily need to.  \n",
    "\n",
    "\n",
    "Examples of surrogates\n",
    "\n",
    "- quasi-steady-states\n",
    "- polynomials\n",
    "- machine-learning models (e.g. torch)\n",
    "\n",
    "You need to check the **validity** of doing these replacements yourself.  \n",
    "One common criterium would be that the surrogated system is working at a much faster time scale.  \n",
    "Then one can assume it to be in steady-state instantaneously relative to the model time.  \n",
    "\n",
    "Surrogates in `MxlPy` can have\n",
    "\n",
    "- one or multiple inputs\n",
    "- one or multiple outputs\n",
    "- one or multiple stoichiometries (factor x output)"
   ]
  },
  {
   "cell_type": "markdown",
   "id": "aef5cfb8",
   "metadata": {},
   "source": [
    "### Quasi-steady-state"
   ]
  },
  {
   "cell_type": "code",
   "execution_count": null,
   "id": "b79e9cea",
   "metadata": {},
   "outputs": [],
   "source": [
    "def distribute(s: float) -> tuple[float, float]:\n",
    "    return s / 3, s * 2 / 3\n",
    "\n",
    "\n",
    "# This creates two derived variables, but has no stoichiometries\n",
    "(\n",
    "    Model()\n",
    "    .add_variables({\"a\": 1.0})\n",
    "    .add_surrogate(\n",
    "        \"distribute\",\n",
    "        surrogates.qss.Surrogate(\n",
    "            model=distribute,\n",
    "            args=[\"a\"],\n",
    "            outputs=[\"a1\", \"a2\"],\n",
    "        ),\n",
    "    )\n",
    "    .get_dependent()\n",
    ")"
   ]
  },
  {
   "cell_type": "markdown",
   "id": "871249fc",
   "metadata": {},
   "source": [
    "### Polynomial"
   ]
  },
  {
   "cell_type": "code",
   "execution_count": null,
   "id": "3afd5272",
   "metadata": {},
   "outputs": [],
   "source": [
    "from numpy.polynomial.polynomial import Polynomial\n",
    "\n",
    "(\n",
    "    Model()\n",
    "    .add_variable(\"x\", 1.0)\n",
    "    .add_surrogate(\n",
    "        \"surrogate\",\n",
    "        surrogates.poly.Surrogate(\n",
    "            model=Polynomial(coef=[2]),\n",
    "            args=[\"x\"],\n",
    "            outputs=[\"y\"],\n",
    "        ),\n",
    "    )\n",
    "    .add_derived(\"z\", fns.add, args=[\"x\", \"y\"])\n",
    "    .get_dependent()\n",
    ")"
   ]
  },
  {
   "cell_type": "markdown",
   "id": "539b40fd",
   "metadata": {},
   "source": [
    "### Build your own!"
   ]
  },
  {
   "cell_type": "code",
   "execution_count": null,
   "id": "5e9636a0",
   "metadata": {},
   "outputs": [],
   "source": [
    "from mxlpy.types import AbstractSurrogate\n",
    "\n",
    "\n",
    "@dataclass(kw_only=True)\n",
    "class DoubleSurrogate(AbstractSurrogate):\n",
    "    def predict(\n",
    "        self, args: dict[str, float | pd.Series | pd.DataFrame]\n",
    "    ) -> dict[str, float]:\n",
    "        return dict(\n",
    "            zip(\n",
    "                self.outputs,\n",
    "                (args[arg] * 2 for arg in self.args),\n",
    "                strict=True,\n",
    "            )\n",
    "        )  # type: ignore\n",
    "\n",
    "\n",
    "(\n",
    "    Model()\n",
    "    .add_variable(\"v1\", 1.0)\n",
    "    .add_surrogate(\n",
    "        \"surrogate\",\n",
    "        DoubleSurrogate(\n",
    "            args=[\"v1\"],\n",
    "            outputs=[\"s1\"],\n",
    "        ),\n",
    "    )\n",
    "    .get_dependent()\n",
    ")"
   ]
  },
  {
   "cell_type": "markdown",
   "id": "ad391087",
   "metadata": {
    "vscode": {
     "languageId": "plaintext"
    }
   },
   "source": [
    "## Data references"
   ]
  },
  {
   "cell_type": "code",
   "execution_count": null,
   "id": "826279c4",
   "metadata": {},
   "outputs": [],
   "source": [
    "def average(light: pd.Series) -> float:\n",
    "    return light.mean()\n",
    "\n",
    "\n",
    "lights = pd.Series(\n",
    "    data={\"400nm\": 200, \"500nm\": 300, \"600nm\": 400},\n",
    "    dtype=float,\n",
    ")\n",
    "\n",
    "\n",
    "(\n",
    "    Model()\n",
    "    .add_data(\"light\", lights)\n",
    "    .add_derived(\"average_light\", average, args=[\"light\"])\n",
    "    .get_dependent()\n",
    ")"
   ]
  },
  {
   "cell_type": "markdown",
   "id": "1d9b656d",
   "metadata": {},
   "source": [
    "## Comparisons"
   ]
  },
  {
   "cell_type": "code",
   "execution_count": null,
   "id": "d70086e1",
   "metadata": {},
   "outputs": [],
   "source": [
    "ssc = compare.steady_states(\n",
    "    get_sir(),\n",
    "    get_sird(),\n",
    ")"
   ]
  },
  {
   "cell_type": "code",
   "execution_count": null,
   "id": "d5650037",
   "metadata": {},
   "outputs": [],
   "source": [
    "_ = ssc.plot_variables()\n",
    "_ = ssc.plot_fluxes()"
   ]
  },
  {
   "cell_type": "code",
   "execution_count": null,
   "id": "ce53c4f0",
   "metadata": {},
   "outputs": [],
   "source": [
    "pc = compare.time_courses(\n",
    "    get_sir(),\n",
    "    get_sird(),\n",
    "    time_points=np.linspace(0, 100, 101),\n",
    ")\n",
    "\n",
    "_ = pc.plot_variables_relative_difference()\n",
    "_ = pc.plot_fluxes_relative_difference()"
   ]
  },
  {
   "cell_type": "markdown",
   "id": "6d7e196a",
   "metadata": {
    "vscode": {
     "languageId": "plaintext"
    }
   },
   "source": [
    "## Reports"
   ]
  },
  {
   "cell_type": "code",
   "execution_count": null,
   "id": "a845ee1f",
   "metadata": {},
   "outputs": [],
   "source": [
    "md = report.markdown(\n",
    "    get_sir(),\n",
    "    get_sird(),\n",
    ")\n",
    "\n",
    "# IPython Display\n",
    "Markdown(md)"
   ]
  },
  {
   "cell_type": "code",
   "execution_count": null,
   "id": "97619a8b",
   "metadata": {},
   "outputs": [],
   "source": [
    "def analyse_concentrations(m1: Model, m2: Model, img_dir: Path) -> tuple[str, Path]:\n",
    "    r_old = unwrap(Simulator(m1).simulate(100).get_result())\n",
    "    r_new = unwrap(Simulator(m2).simulate(100).get_result())\n",
    "    fig = plot_difference(r_old.variables, r_new.variables)\n",
    "    fig.savefig((path := img_dir / \"concentration.png\"), dpi=300)\n",
    "    plt.close(fig)\n",
    "    return \"## Comparison of largest changing\", path\n",
    "\n",
    "\n",
    "md = report.markdown(\n",
    "    get_sir(),\n",
    "    get_sird(),\n",
    "    analyses=[analyse_concentrations],\n",
    "    img_path=TMP_DIR,\n",
    ")\n",
    "\n",
    "# IPython Display\n",
    "Markdown(md)"
   ]
  },
  {
   "cell_type": "markdown",
   "id": "4a8acba0",
   "metadata": {},
   "source": [
    "## Metaprogramming"
   ]
  },
  {
   "cell_type": "code",
   "execution_count": null,
   "id": "3937e62a",
   "metadata": {},
   "outputs": [],
   "source": [
    "from mxlpy.meta import (\n",
    "    generate_latex_code,\n",
    "    generate_model_code_py,\n",
    ")\n"
   ]
  },
  {
   "cell_type": "code",
   "execution_count": null,
   "id": "24eb1752",
   "metadata": {},
   "outputs": [],
   "source": [
    "print(generate_model_code_py(get_sir()))"
   ]
  },
  {
   "cell_type": "code",
   "execution_count": null,
   "id": "184ff3b3",
   "metadata": {},
   "outputs": [],
   "source": [
    "print(generate_latex_code(get_sir()))"
   ]
  },
  {
   "cell_type": "markdown",
   "id": "b6612a35",
   "metadata": {},
   "source": [
    "# Discussion: units\n",
    "\n",
    "See https://github.com/Computational-Biology-Aachen/MxlPy/issues/26"
   ]
  },
  {
   "cell_type": "markdown",
   "id": "3f723837",
   "metadata": {},
   "source": [
    "# MxlBricks\n",
    "\n",
    "- [Repo](https://github.com/Computational-Biology-Aachen/mxl-bricks)\n",
    "- [Documentation](https://computational-biology-aachen.github.io/mxl-bricks/0.2.0/)"
   ]
  },
  {
   "cell_type": "code",
   "execution_count": null,
   "id": "2a793fd6",
   "metadata": {},
   "outputs": [],
   "source": [
    "from mxlbricks import names as n\n",
    "from mxlbricks.enzymes import (\n",
    "    add_catalase,\n",
    "    add_glycine_decarboxylase_yokota,\n",
    "    add_glycine_transaminase_yokota,\n",
    "    add_glycolate_oxidase_yokota,\n",
    "    add_hpa_outflux,\n",
    "    add_phosphoglycolate_influx,\n",
    "    add_serine_glyoxylate_transaminase_irreversible,\n",
    ")\n",
    "from mxlbricks.utils import static\n",
    "\n",
    "\n",
    "def get_yokota1985() -> Model:\n",
    "    model = Model()\n",
    "    model.add_variables(\n",
    "        {\n",
    "            n.glycolate(): 0.09,\n",
    "            n.glyoxylate(): 0.7964601770483386,\n",
    "            n.glycine(): 8.999999999424611,\n",
    "            n.serine(): 2.5385608670239126,\n",
    "            n.hydroxypyruvate(): 0.009782608695111009,\n",
    "            n.h2o2(): 0.010880542843616855,\n",
    "        }\n",
    "    )\n",
    "\n",
    "    add_phosphoglycolate_influx(model)\n",
    "    add_glycolate_oxidase_yokota(model)\n",
    "    add_glycine_transaminase_yokota(model)\n",
    "    add_glycine_decarboxylase_yokota(\n",
    "        model,\n",
    "        e0=static(model, n.e0(n.glycine_decarboxylase()), 0.5),\n",
    "    )\n",
    "    add_serine_glyoxylate_transaminase_irreversible(model)\n",
    "    add_hpa_outflux(model)\n",
    "    add_catalase(model)\n",
    "    return model"
   ]
  },
  {
   "cell_type": "markdown",
   "id": "34a2f4fa",
   "metadata": {},
   "source": [
    "## Create new model that actually has oxygen concentration"
   ]
  },
  {
   "cell_type": "code",
   "execution_count": null,
   "id": "5ef643f3",
   "metadata": {},
   "outputs": [],
   "source": [
    "from mxlbricks.enzymes import add_glycolate_oxidase\n",
    "\n",
    "\n",
    "def get_photorespiration() -> Model:\n",
    "    model = Model()\n",
    "    model.add_variables(\n",
    "        {\n",
    "            n.glycolate(): 0.09,\n",
    "            n.glyoxylate(): 0.7964601770483386,\n",
    "            n.glycine(): 8.999999999424611,\n",
    "            n.serine(): 2.5385608670239126,\n",
    "            n.hydroxypyruvate(): 0.009782608695111009,\n",
    "            n.h2o2(): 0.010880542843616855,\n",
    "        }\n",
    "    )\n",
    "    model.add_parameter(n.o2(), 0.2)  # changed here\n",
    "\n",
    "    add_phosphoglycolate_influx(model)\n",
    "    add_glycolate_oxidase(model)  # changed here\n",
    "    add_glycine_transaminase_yokota(model)\n",
    "    add_glycine_decarboxylase_yokota(\n",
    "        model,\n",
    "        e0=static(model, n.e0(n.glycine_decarboxylase()), 0.5),\n",
    "    )\n",
    "    add_serine_glyoxylate_transaminase_irreversible(model)\n",
    "    add_hpa_outflux(model)\n",
    "    add_catalase(model)\n",
    "    return model"
   ]
  },
  {
   "cell_type": "code",
   "execution_count": null,
   "id": "f7086fe1",
   "metadata": {},
   "outputs": [],
   "source": [
    "d = get_photorespiration().get_dependent()"
   ]
  },
  {
   "cell_type": "code",
   "execution_count": null,
   "id": "21b8e899",
   "metadata": {},
   "outputs": [],
   "source": [
    "Markdown(\n",
    "    report.markdown(\n",
    "        get_yokota1985(),\n",
    "        get_photorespiration(),\n",
    "    )\n",
    ")"
   ]
  },
  {
   "cell_type": "code",
   "execution_count": null,
   "id": "28f3a888",
   "metadata": {},
   "outputs": [],
   "source": [
    "tcc = compare.time_courses(\n",
    "    get_yokota1985(),\n",
    "    get_photorespiration(),\n",
    "    time_points=np.linspace(0, 10, 101, dtype=float),\n",
    ")\n",
    "\n",
    "fig, axs = tcc.plot_variables_relative_difference()\n",
    "remove_labels(axs)\n",
    "grid_labels(axs, xlabel=\"Time / h\", ylabel=\"Relative difference\")\n",
    "plt.show()"
   ]
  },
  {
   "cell_type": "markdown",
   "id": "d61e4a65",
   "metadata": {},
   "source": [
    "## Discussion: those are just mechanistic bricks, where is the `L`?  \n",
    "\n",
    "- Should we provide learned surrogates of these models in a package like this?  \n",
    "- They can get very large, where do we store them?\n",
    "  - Downloader like `torch` does it? "
   ]
  }
 ],
 "metadata": {
  "kernelspec": {
   "display_name": ".venv",
   "language": "python",
   "name": "python3"
  },
  "language_info": {
   "codemirror_mode": {
    "name": "ipython",
    "version": 3
   },
   "file_extension": ".py",
   "mimetype": "text/x-python",
   "name": "python",
   "nbconvert_exporter": "python",
   "pygments_lexer": "ipython3",
   "version": "3.12.8"
  }
 },
 "nbformat": 4,
 "nbformat_minor": 5
}
